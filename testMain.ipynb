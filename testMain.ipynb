{
 "cells": [
  {
   "cell_type": "code",
   "execution_count": 8,
   "metadata": {},
   "outputs": [],
   "source": [
    "import django\n",
    "import os\n",
    "os.environ.setdefault('DJANGO_SETTINGS_MODULE', 'django_prot.settings')\n",
    "django.setup()\n",
    "\n"
   ]
  },
  {
   "cell_type": "code",
   "execution_count": null,
   "metadata": {},
   "outputs": [],
   "source": [
    "from protein.models import ProtCDD\n",
    "from django.core import serializers\n",
    "q = ProtCDD.objects.filter( protin_id= 'WP_124948266.1')\n",
    "serializers.serialize('json',q)"
   ]
  },
  {
   "cell_type": "code",
   "execution_count": 7,
   "metadata": {},
   "outputs": [
    {
     "name": "stdout",
     "output_type": "stream",
     "text": [
      "\n",
      "aa\n"
     ]
    }
   ],
   "source": [
    "import sys;\n",
    "try:\n",
    "    print()\n",
    "finally:\n",
    "    print(\"aa\")"
   ]
  },
  {
   "cell_type": "code",
   "execution_count": null,
   "metadata": {},
   "outputs": [
    {
     "name": "stdout",
     "output_type": "stream",
     "text": [
      "2021-09-01 12:24:37.797000\n"
     ]
    }
   ],
   "source": [
    "from protein.models import SubmitInfo\n",
    "obj = SubmitInfo.objects.get(job_name='HAG50354_1')\n",
    "print(obj.running_date)\n",
    "import django.db\n",
    "django.db.close_old_connections()\n",
    "obj2 = SubmitInfo.objects.get(job_name='HAG50354_1')\n",
    "print(obj.completed_date)"
   ]
  },
  {
   "cell_type": "code",
   "execution_count": null,
   "metadata": {},
   "outputs": [],
   "source": [
    "import os\n",
    "from os import path\n",
    "def scanAndFind_pattern(mydir, mypattern):\n",
    "    wantFiles = []\n",
    "    for entry in os.scandir(mydir):\n",
    "        if entry.is_file()  and mypattern.search(entry.name):\n",
    "            wantFiles.append(entry)\n",
    "        elif entry.is_dir():\n",
    "            wantFiles.extend(scanAndFind_pattern(entry.path, mypattern))\n",
    "    return wantFiles\n",
    "import re, json\n",
    "re_json = re.compile(r\".json$\")\n",
    "jFiles_dir = \"/dat1/nbt2/proj/21-prot/web/data/res/test/\"\n",
    "out_dir = \"/dat1/nbt2/proj/21-prot/web/data/res/tmp\"\n",
    "jFiles = scanAndFind_pattern(jFiles_dir,re_json)\n",
    "\n",
    "from protein.models import ProtCDD\n",
    "for entry in jFiles:\n",
    "    print(entry.path)\n",
    "    oFi = path.join(out_dir, entry.path)\n",
    "    with open(entry.path) as f, open(oFi, 'w') as fo:\n",
    "        dt = json.load(f)\n",
    "        data=[]\n",
    "        for myd in dt:\n",
    "            obj = ProtCDD.objects.get(protin_id=dt['target'])\n",
    "            myd[\"cdd_annots\"] = obj.cdd_annots\n",
    "            myd[\"cdd_notes\"] = obj.cdd_notes\n",
    "            data.append(myd)\n",
    "    \n",
    "        dt_json = json.dumps(data)\n",
    "        json.dump(dt_json, fo)\n",
    "        "
   ]
  },
  {
   "cell_type": "code",
   "execution_count": 25,
   "metadata": {},
   "outputs": [
    {
     "name": "stdout",
     "output_type": "stream",
     "text": [
      "\n",
      "a\n"
     ]
    }
   ],
   "source": [
    "\n",
    "import json\n",
    "f = open(\"/dat1/nbt2/proj/21-prot/web/data/res/test/05058d7d-325c-48b3-b323-f23047fa4925/jackhmmer.json\",'r')\n",
    "print(f.read())\n",
    "print(\"a\")\n",
    "# jsdt =json.loads(f.read())\n"
   ]
  },
  {
   "cell_type": "code",
   "execution_count": null,
   "metadata": {},
   "outputs": [],
   "source": [
    "import re\n",
    "re_a = re.compile(r\"(ab.*?){2,}\")\n",
    "ab ='ablkjlabkljba'\n",
    "m = re_a.search(ab)\n",
    "print(m.group())"
   ]
  },
  {
   "cell_type": "code",
   "execution_count": 1,
   "metadata": {},
   "outputs": [],
   "source": [
    "import django\n",
    "import os\n",
    "os.environ.setdefault('DJANGO_SETTINGS_MODULE', 'django_prot.settings')\n",
    "django.setup()"
   ]
  },
  {
   "cell_type": "code",
   "execution_count": 4,
   "metadata": {},
   "outputs": [
    {
     "data": {
      "text/plain": [
       "<RawQuerySet: SELECT * FROM protein_protcdd2_head WHERE (`cdd_annots`) AGAINST('cas_TM')>"
      ]
     },
     "execution_count": 4,
     "metadata": {},
     "output_type": "execute_result"
    }
   ],
   "source": [
    "from protein.models import ProtCDD2_head\n",
    "prot_lenMax = 10000\n",
    "prot_lenMin =400\n",
    "querySet = ProtCDD2_head.objects.all().filter(length__gt = prot_lenMin, length__lt=prot_lenMax)\n"
   ]
  },
  {
   "cell_type": "code",
   "execution_count": null,
   "metadata": {},
   "outputs": [],
   "source": [
    "qset = ProtCDD2_head.objects.raw(\"SELECT * FROM protein_protcdd2_head WHERE  MATCH(`cdd_annots`) AGAINST('Cas10_III' IN BOOLEAN MODE) HAVING `cdd_annots` LIKE '%Cas10 %Cas10%' \")\n",
    "for q in qset:\n",
    "    print(q)"
   ]
  },
  {
   "cell_type": "code",
   "execution_count": null,
   "metadata": {},
   "outputs": [],
   "source": [
    "import django\n",
    "import os\n",
    "os.environ.setdefault('DJANGO_SETTINGS_MODULE', 'django_prot.settings')\n",
    "django.setup()\n",
    "from protein.models import SubmitInfoNew\n",
    "blast  = SubmitInfoNew.objects.filter(proj_type=\"blast\")\n",
    "blast.count()\n",
    "for q in blast:\n",
    "    print(q.run_status, q.task_status)\n",
    "    # q.run_status = q.task_status\n",
    "    # q.save()"
   ]
  },
  {
   "cell_type": "code",
   "execution_count": null,
   "metadata": {},
   "outputs": [],
   "source": [
    "import django_celery_results\n",
    "print(django_celery_results.django_celery_results_taskresult)"
   ]
  }
 ],
 "metadata": {
  "interpreter": {
   "hash": "e97bee9b794c1fc58a1cbd9a7311ba43602a4596b6cf56d7f292535c1fe3f116"
  },
  "kernelspec": {
   "display_name": "Python 3.8.12 ('webProt')",
   "language": "python",
   "name": "python3"
  },
  "language_info": {
   "codemirror_mode": {
    "name": "ipython",
    "version": 3
   },
   "file_extension": ".py",
   "mimetype": "text/x-python",
   "name": "python",
   "nbconvert_exporter": "python",
   "pygments_lexer": "ipython3",
   "version": "3.8.12"
  },
  "orig_nbformat": 4
 },
 "nbformat": 4,
 "nbformat_minor": 2
}
