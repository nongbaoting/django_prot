{
 "cells": [
  {
   "cell_type": "code",
   "execution_count": null,
   "metadata": {},
   "outputs": [],
   "source": [
    "lt = []\n",
    "\n",
    "def shift_dict(mydt,newKey ,lt, keep_len = 10):\n",
    "    lt.append(newKey)\n",
    "    if len(lt) >keep_len:\n",
    "        headKey = lt.pop(0)\n",
    "        del mydt[headKey]\n",
    "    return mydt, lt\n",
    "from collections import defaultdict\n",
    "mydt = defaultdict(str)\n",
    "lt = []\n",
    "for i in range(50):\n",
    "    mydt[f'{i}-key'] = f'value {i}'\n",
    "    shift_dict(mydt,f'{i}-key' ,lt, keep_len = 10)\n",
    "    \n",
    "print(mydt)"
   ]
  },
  {
   "cell_type": "code",
   "execution_count": 1,
   "metadata": {},
   "outputs": [],
   "source": [
    "seq = \"MPOQGLAYPVPTLIYHITHLNNLQGILQRGGLLPYSQRPPTQONVAYGHIQAHRAQVVVPVGPRGKLHDYVPFYFCPRSPMLYAIHTQQTDYQGDQRPILHLVSSAQKVAEARIPFVETDRHAVQYVCFFHKLEHLKALDWQAIQASYWANVREKKOAEFLVKDFFPWELVEEIGVIDKTIQAQVESILAQFPDLHHPPVRVRRSWYYK\"\n",
    "restypes = [ \n",
    "     'A', 'R', 'N', 'D', 'C', 'Q', 'E', 'G', 'H', 'I', 'L', 'K', 'M', 'F', 'P', \n",
    "     'S', 'T', 'W', 'Y', 'V' \n",
    " ] "
   ]
  },
  {
   "cell_type": "code",
   "execution_count": 3,
   "metadata": {},
   "outputs": [
    {
     "name": "stdout",
     "output_type": "stream",
     "text": [
      "2 O\n",
      "42 O\n",
      "156 O\n"
     ]
    }
   ],
   "source": [
    "for idex, value in enumerate(seq):\n",
    "    if value not in  restypes:\n",
    "        print(idex, value)"
   ]
  },
  {
   "cell_type": "code",
   "execution_count": 13,
   "metadata": {},
   "outputs": [],
   "source": [
    "import json\n",
    "Fi = \"/dat1/nbt2/proj/22-cas5/work/blast/Cas5_Csy2.json\"\n",
    "f = open(Fi, 'r')\n",
    "blast_json = json.load(f)\n",
    "f.close()"
   ]
  },
  {
   "cell_type": "code",
   "execution_count": 16,
   "metadata": {},
   "outputs": [],
   "source": [
    "dt = blast_json[\"BlastOutput2\"][0]\n",
    "reprot = dt['report']\n",
    "params = reprot['params']\n",
    "results = reprot['results']\n",
    "iterations = results['iterations']"
   ]
  },
  {
   "cell_type": "code",
   "execution_count": null,
   "metadata": {},
   "outputs": [],
   "source": [
    "data = []\n",
    "E_VALUE_THRESH = 0.001\n",
    "for iter in iterations:\n",
    "    search = iter['search']\n",
    "    hits = search['hits']\n",
    "    num_matches = len(search['hits'])\n",
    "    print(\"num_matches:\",num_matches)\n",
    "    query_length = search[\"query_len\"]\n",
    "    query = search[\"query_id\"]\n",
    "    for hit_ in hits:\n",
    "        \n",
    "        title = hit_['description'][0][\"title\"]\n",
    "        title_split = title.split()\n",
    "        title_id = title_split[0]\n",
    "        title_seq_id = title_split[1]\n",
    "        title_desc = title.split(']')[0] + ']'\n",
    "        length = hit_[\"len\"]\n",
    "        # print(title_seq_id)\n",
    "        align = ''\n",
    "        for hsp in hit_[\"hsps\"]:\n",
    "            desc = ''\n",
    "            if hsp['evalue'] < E_VALUE_THRESH:\n",
    "                score = hsp[\"score\"]\n",
    "                bits = hsp[\"bit_score\"]\n",
    "                identities = hsp[ \"identity\"]\n",
    "                query_start = hsp[\"query_from\"]\n",
    "                sbjct_start = hsp[\"hit_from\"]\n",
    "                sbjct_to = hsp[\"hit_to\"]\n",
    "                e_value = hsp[\"evalue\"]\n",
    "                # query = hsp.query\n",
    "                # match = hsp.match\n",
    "                # sbjct = hsp.sbjct\n",
    "                align_length = hsp[\"align_len\"]\n",
    "                gaps = hsp[\"gaps\"]\n",
    "                # print(hsp)\n",
    "                # break\n",
    "                ident = round(identities / align_length * 100, 2)\n",
    "                gap_per = round(gaps / align_length * 100, 2)\n",
    "                query_cover = round(align_length / query_length * 100, 2)\n",
    "                \n",
    "                align += 'hsp: ' + str(sbjct_start) + ' to ' + str(\n",
    "                    sbjct_start + align_length - 1) + ','\n",
    "                    \n",
    "                align += f\" Score = {str(score)}  bits ({str(hsp.bits)}), Expect = {str(e_value)} \" \n",
    "                align +=f\"Identities = {identities}/{align_length} ({ident}%), Gaps = {hsp.gaps}/{align_length} ({gap_per}%)\\n\\n\"\n",
    "                #Positives = {hsp.gaps}/{align_length} (75%)\n",
    "                loops = round(align_length // 60 + 1)\n",
    "        #        \n",
    "                for i in range(0, loops):\n",
    "                    align += \"Query %8s  %s %s\\n\" % (str(query_start), query[(i * 60):((i + 1) * 60)],\n",
    "                                                        str(query_start + len(query[(i * 60):((i + 1) * 60)]) - 1))\n",
    "                    align += \"      %8s  %s\\n\" % ('', match[(i * 60):((i + 1) * 60)])\n",
    "                    align += \"Sbjct %8s  %s %s\\n\\n\" % (str(sbjct_start), sbjct[(i * 60):((i + 1) * 60)], str(\n",
    "                        sbjct_start + len(sbjct[(i * 60):((i + 1) * 60)]) - 1))\n",
    "                    query_start += 60\n",
    "                    sbjct_start += 60\n",
    "                \n",
    "                align += \"\\n\\n\"\n",
    "\n",
    "                dt = {\n",
    "                \"target\":title_seq_id,\n",
    "                \"query\": query,\n",
    "                \"query_covery\": query_cover,\n",
    "                \"target_len\": align_length,\n",
    "                \"E_value\": e_value,\n",
    "                \"score\": float(score),\n",
    "                \"domain\": 1,\n",
    "                \"domain_count\": 1,\n",
    "                \"acc\": float(ident),\n",
    "                'desc': title_desc ,\n",
    "                \"pairwise\":[align]\n",
    "                }\n",
    "                data.append(dt)"
   ]
  },
  {
   "cell_type": "code",
   "execution_count": 4,
   "metadata": {},
   "outputs": [],
   "source": [
    "f2 = \"/dat1/nbt2/proj/21-prot/web/data/res/blast/07fe80bf-fcc4-4138-b449-5ce678f19036/BLASTP.json\"\n",
    "f = open(f2, 'r')\n",
    "dt2 = json.load(f)\n",
    "f.close()"
   ]
  }
 ],
 "metadata": {
  "interpreter": {
   "hash": "d23324c09433081b19d6ac02330988fa513bd841b7b73e4f005607771ff80ebe"
  },
  "kernelspec": {
   "display_name": "Python 3.7.12 ('base')",
   "language": "python",
   "name": "python3"
  },
  "language_info": {
   "codemirror_mode": {
    "name": "ipython",
    "version": 3
   },
   "file_extension": ".py",
   "mimetype": "text/x-python",
   "name": "python",
   "nbconvert_exporter": "python",
   "pygments_lexer": "ipython3",
   "version": "3.8.12"
  },
  "orig_nbformat": 4
 },
 "nbformat": 4,
 "nbformat_minor": 2
}
